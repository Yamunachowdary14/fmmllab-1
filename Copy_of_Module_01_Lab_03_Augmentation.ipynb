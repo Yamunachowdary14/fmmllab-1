{
  "nbformat": 4,
  "nbformat_minor": 0,
  "metadata": {
    "colab": {
      "provenance": [],
      "include_colab_link": true
    },
    "kernelspec": {
      "name": "python3",
      "display_name": "Python 3"
    },
    "language_info": {
      "name": "python"
    }
  },
  "cells": [
    {
      "cell_type": "markdown",
      "metadata": {
        "id": "view-in-github",
        "colab_type": "text"
      },
      "source": [
        "<a href=\"https://colab.research.google.com/github/Yamunachowdary14/fmmllab-1/blob/main/Copy_of_Module_01_Lab_03_Augmentation.ipynb\" target=\"_parent\"><img src=\"https://colab.research.google.com/assets/colab-badge.svg\" alt=\"Open In Colab\"/></a>"
      ]
    },
    {
      "cell_type": "markdown",
      "metadata": {
        "id": "w3yfry25JgZK"
      },
      "source": [
        "# Data augmentation\n",
        "\n",
        "FMML Module 1, Lab 3<br>\n",
        "\n",
        " In this lab, we will see how augmentation of data samples help in improving the machine learning performance"
      ]
    },
    {
      "cell_type": "code",
      "metadata": {
        "id": "xZU8_elooqP0"
      },
      "source": [
        "import numpy as np\n",
        "import matplotlib.pyplot as plt\n",
        "from keras.datasets import mnist\n",
        "# set randomseed\n",
        "rng = np.random.default_rng(seed=42)\n",
        "from sklearn.utils.extmath import cartesian\n",
        "from skimage.transform import rotate, AffineTransform, warp\n",
        "import math"
      ],
      "execution_count": null,
      "outputs": []
    },
    {
      "cell_type": "markdown",
      "metadata": {
        "id": "T5pHYogSMHiE"
      },
      "source": [
        "Augmentation is useful when we have less training data available. Augmentation allows us to 'create' a larger dataset programatically.\n",
        "\n",
        "For this lab we will use a subset of MNIST that is very small, to better understand the effect of augmentation."
      ]
    },
    {
      "cell_type": "code",
      "metadata": {
        "id": "gJvmWJ58ovx5",
        "colab": {
          "base_uri": "https://localhost:8080/"
        },
        "outputId": "1658fa02-5b4a-427f-a717-dc8244f8b061"
      },
      "source": [
        "#loading the dataset\n",
        "(train_X, train_y), (test_X, test_y) = mnist.load_data()\n",
        "train_X = train_X/255\n",
        "test_X = test_X/255\n",
        "\n",
        "train_X = train_X[::1200,:,:].copy() # subsample. Otherwise it will take too long!\n",
        "train_y = train_y[::1200].copy() # do the same to the labels"
      ],
      "execution_count": null,
      "outputs": [
        {
          "output_type": "stream",
          "name": "stdout",
          "text": [
            "Downloading data from https://storage.googleapis.com/tensorflow/tf-keras-datasets/mnist.npz\n",
            "11490434/11490434 [==============================] - 0s 0us/step\n"
          ]
        }
      ]
    },
    {
      "cell_type": "markdown",
      "metadata": {
        "id": "8XamH6z1Rt7S"
      },
      "source": [
        "Let us borrow a few functions from the previous labs:"
      ]
    },
    {
      "cell_type": "code",
      "metadata": {
        "id": "Zk2W5_3BRLMS"
      },
      "source": [
        "def NN1(traindata, trainlabel, query):\n",
        "  diff  = traindata - query  # find the difference between features. Numpy automatically takes care of the size here\n",
        "  sq = diff*diff # square the differences\n",
        "  dist = sq.sum(1) # add up the squares\n",
        "  label = trainlabel[np.argmin(dist)] # our predicted label is the label of the training data which has the least distance from the query\n",
        "  return label\n",
        "\n",
        "def NN(traindata, trainlabel, testdata):\n",
        "  # we will run nearest neighbour for each sample in the test data\n",
        "  # and collect the predicted classes in an array using list comprehension\n",
        "  traindata = traindata.reshape(-1, 28*28)\n",
        "  testdata = testdata.reshape(-1,28*28)\n",
        "  predlabel = np.array([NN1(traindata, trainlabel, i) for i in testdata])\n",
        "  return predlabel\n",
        "\n",
        "def Accuracy(gtlabel, predlabel):\n",
        "  assert len(gtlabel)==len(predlabel), \"Length of the groundtruth labels and predicted labels should be the same\"\n",
        "  correct = (gtlabel==predlabel).sum() # count the number of times the groundtruth label is equal to the predicted label.\n",
        "  return correct/len(gtlabel)"
      ],
      "execution_count": null,
      "outputs": []
    },
    {
      "cell_type": "markdown",
      "metadata": {
        "id": "eGiA3LmDSJZo"
      },
      "source": [
        "In this lab, we will use the image pixels themselves as features, instead of extracting features. Each image has 28*28 pixels, so we will flatten them to 784 pixels to use as features. Note that this is very compute intensive and will take a long time.<br>\n",
        "\n",
        "Let us check the baseline accuracy on the test set without any augmentations. We hope that adding augmentations will help us to get better results."
      ]
    },
    {
      "cell_type": "code",
      "metadata": {
        "id": "4tQvnoasRNEV",
        "colab": {
          "base_uri": "https://localhost:8080/"
        },
        "outputId": "1bf9f68e-db56-46df-e20b-3415c8d01cc9"
      },
      "source": [
        "testpred = NN(train_X, train_y, test_X)\n",
        "print('Baseline accuracy without augmentation is ', Accuracy(test_y, testpred))"
      ],
      "execution_count": null,
      "outputs": [
        {
          "output_type": "stream",
          "name": "stdout",
          "text": [
            "Baseline accuracy without augmentation is  0.6472\n"
          ]
        }
      ]
    },
    {
      "cell_type": "markdown",
      "metadata": {
        "id": "ZfkcMfhIZQ7U"
      },
      "source": [
        "Let us try to improve this accuracy using augmentations. When we create augmentations, we have to make sure that the changes reflect what will naturally occur in the dataset. For example, we should not add colour to our samples as an augmentation because they do not naturally occur. We should not also flip the images in MNIST, because flipped images have different meanings for digits.\n",
        "\n",
        "### Augmentation 1: rotation\n",
        "\n",
        "Let us try rotating the image a little. We will use skimage library for this."
      ]
    },
    {
      "cell_type": "code",
      "metadata": {
        "id": "z5WolJ9fZE7L",
        "colab": {
          "base_uri": "https://localhost:8080/",
          "height": 860
        },
        "outputId": "ffcb51a5-d898-404a-85e2-d5c5b614682f"
      },
      "source": [
        "plt.imshow(train_X[2], cmap='gray')\n",
        "plt.show()\n",
        "plt.imshow(rotate(train_X[2],25), cmap='gray')"
      ],
      "execution_count": null,
      "outputs": [
        {
          "output_type": "display_data",
          "data": {
            "text/plain": [
              "<Figure size 640x480 with 1 Axes>"
            ],
            "image/png": "[encoded data removed]"
          },
          "metadata": {}
        },
        {
          "output_type": "execute_result",
          "data": {
            "text/plain": [
              "<matplotlib.image.AxesImage at 0x791598fedf30>"
            ]
          },
          "metadata": {},
          "execution_count": 5
        },
        {
          "output_type": "display_data",
          "data": {
            "text/plain": [
              "<Figure size 640x480 with 1 Axes>"
            ],
            "image/png": "[encoded data removed]"
          },
          "metadata": {}
        }
      ]
    },
    {
      "cell_type": "markdown",
      "metadata": {
        "id": "KE33Yxgggu0c"
      },
      "source": [
        "After rotating, the the class of the image is still the same. Let us make a function to rotate multiple images by random angles. We want a slightly different image every time we run this function. So, we generate a random number between 0 and 1 and change it so that it lies between -constraint/2 and +constraint/2"
      ]
    },
    {
      "cell_type": "code",
      "metadata": {
        "id": "vyM7pUV7Reze"
      },
      "source": [
        "def augRotate(sample, angleconstraint):\n",
        "  if angleconstraint==0:\n",
        "    return sample\n",
        "  if len(sample.shape)==2:\n",
        "    sample = np.expand_dims(sample, 0)  # make sure the sample is 3 dimensional\n",
        "  angle = rng.random(len(sample)) # generate random numbers for angles\n",
        "  angle = (angle-0.5)*angleconstraint # make the random angle constrained\n",
        "  nsample = sample.copy() # preallocate the augmented array to make it faster\n",
        "  for ii in range(len(sample)):\n",
        "    nsample[ii] = rotate(sample[ii], angle[ii])\n",
        "  return np.squeeze(nsample) # take care if the input had only one sample."
      ],
      "execution_count": null,
      "outputs": []
    },
    {
      "cell_type": "markdown",
      "metadata": {
        "id": "kDk-N5VNjar9"
      },
      "source": [
        "This function returns a slightly different image each time we call it. So we can increase the number of images in the sample by any multiple."
      ]
    },
    {
      "cell_type": "code",
      "metadata": {
        "id": "Vw3O9zGFgI8K",
        "colab": {
          "base_uri": "https://localhost:8080/",
          "height": 639
        },
        "outputId": "96209f25-8ec6-4612-96bd-a1a41bd8917d"
      },
      "source": [
        "sample = train_X[20]\n",
        "angleconstraint = 70\n",
        "# show the original image\n",
        "plt.imshow(sample, cmap='gray')\n",
        "plt.show()\n",
        "plt.subplot(1,3,1)\n",
        "plt.imshow(augRotate(sample, angleconstraint), cmap='gray') # show an augmented image\n",
        "plt.subplot(1,3,2)\n",
        "plt.imshow(augRotate(sample, angleconstraint), cmap='gray') # show another augmented image from the same sample\n",
        "plt.subplot(1,3,3)\n",
        "plt.imshow(augRotate(sample, angleconstraint), cmap='gray') # one more image from the same sample"
      ],
      "execution_count": null,
      "outputs": [
        {
          "output_type": "display_data",
          "data": {
            "text/plain": [
              "<Figure size 640x480 with 1 Axes>"
            ],
            "image/png": "[encoded data removed]"
          },
          "metadata": {}
        },
        {
          "output_type": "execute_result",
          "data": {
            "text/plain": [
              "<matplotlib.image.AxesImage at 0x791598ecae30>"
            ]
          },
          "metadata": {},
          "execution_count": 7
        },
        {
          "output_type": "display_data",
          "data": {
            "text/plain": [
              "<Figure size 640x480 with 3 Axes>"
            ],
            "image/png": "[encoded data removed]"
          },
          "metadata": {}
        }
      ]
    },
    {
      "cell_type": "markdown",
      "metadata": {
        "id": "ytv3NxF-kgxN"
      },
      "source": [
        "Let us augment the whole dataset and see if this improves the test accuracy"
      ]
    },
    {
      "cell_type": "code",
      "metadata": {
        "id": "iNzNAoDBkRzj",
        "colab": {
          "base_uri": "https://localhost:8080/"
        },
        "outputId": "09899ff1-0341-46cd-b2b4-3e5b6ce37251"
      },
      "source": [
        "# hyperparameters\n",
        "angleconstraint = 60\n",
        "naugmentations = 5\n",
        "\n",
        "# augment\n",
        "augdata = train_X # we include the original images also in the augmented dataset\n",
        "auglabel = train_y\n",
        "for ii in range(naugmentations):\n",
        "  augdata = np.concatenate((augdata, augRotate(train_X, angleconstraint))) # concatenate the augmented data to the set\n",
        "  auglabel = np.concatenate((auglabel, train_y))  # the labels don't change when we augment\n",
        "\n",
        "# check the test accuracy\n",
        "testpred = NN(augdata, auglabel, test_X)\n",
        "print('Accuracy after rotation augmentation is ', Accuracy(test_y, testpred))"
      ],
      "execution_count": null,
      "outputs": [
        {
          "output_type": "stream",
          "name": "stdout",
          "text": [
            "Accuracy after rotation augmentation is  0.6616\n"
          ]
        }
      ]
    },
    {
      "cell_type": "markdown",
      "metadata": {
        "id": "E88Nt9s1p5R6"
      },
      "source": [
        "The angle constraint is a hyperparameter which we have to tune using a validation set. (Here we are not doing that for time constraints). Let us try a grid search to find the best angle constraint."
      ]
    },
    {
      "cell_type": "code",
      "metadata": {
        "id": "aiaFRLREmGp6",
        "colab": {
          "base_uri": "https://localhost:8080/"
        },
        "outputId": "1840475f-7c6a-417e-ad53-378c162fb60c"
      },
      "source": [
        "angleconstraints = [0,10,20,30,40,50,60,70,80,90] # the values we want to test\n",
        "accuracies = np.zeros(len(angleconstraints), dtype=np.float) # we will save the values here\n",
        "\n",
        "for ii in range(len(angleconstraints)):\n",
        "  # create the augmented dataset\n",
        "  augdata = train_X # we include the original images also in the augmented dataset\n",
        "  auglabel = train_y\n",
        "  for jj in range(naugmentations):\n",
        "    augdata = np.concatenate((augdata, augRotate(train_X, angleconstraints[ii]))) # concatenate the augmented data to the set\n",
        "    auglabel = np.concatenate((auglabel, train_y))  # the labels don't change when we augment\n",
        "\n",
        "  # check the test accuracy\n",
        "  testpred = NN(augdata, auglabel, test_X)\n",
        "  accuracies[ii] = Accuracy(test_y, testpred)\n",
        "  print('Accuracy after rotation augmentation constrained by ',angleconstraints[ii], ' is ', accuracies[ii], flush=True)"
      ],
      "execution_count": null,
      "outputs": [
        {
          "output_type": "stream",
          "name": "stderr",
          "text": [
            "<ipython-input-10-2f14d3721156>:2: DeprecationWarning: `np.float` is a deprecated alias for the builtin `float`. To silence this warning, use `float` by itself. Doing this will not modify any behavior and is safe. If you specifically wanted the numpy scalar type, use `np.float64` here.\n",
            "Deprecated in NumPy 1.20; for more details and guidance: https://numpy.org/devdocs/release/1.20.0-notes.html#deprecations\n",
            "  accuracies = np.zeros(len(angleconstraints), dtype=np.float) # we will save the values here\n"
          ]
        },
        {
          "output_type": "stream",
          "name": "stdout",
          "text": [
            "Accuracy after rotation augmentation constrained by  0  is  0.6472\n",
            "Accuracy after rotation augmentation constrained by  10  is  0.6594\n",
            "Accuracy after rotation augmentation constrained by  20  is  0.6798\n",
            "Accuracy after rotation augmentation constrained by  30  is  0.6771\n",
            "Accuracy after rotation augmentation constrained by  40  is  0.6797\n",
            "Accuracy after rotation augmentation constrained by  50  is  0.6772\n",
            "Accuracy after rotation augmentation constrained by  60  is  0.6691\n",
            "Accuracy after rotation augmentation constrained by  70  is  0.6603\n",
            "Accuracy after rotation augmentation constrained by  80  is  0.6518\n",
            "Accuracy after rotation augmentation constrained by  90  is  0.652\n"
          ]
        }
      ]
    },
    {
      "cell_type": "markdown",
      "metadata": {
        "id": "2oVDRYP2rxob"
      },
      "source": [
        "Let us see the best value for angle constraint: (Ideally this should be done on validation set, not test set)"
      ]
    },
    {
      "cell_type": "code",
      "metadata": {
        "id": "LqthJa_pmMHz",
        "colab": {
          "base_uri": "https://localhost:8080/",
          "height": 481
        },
        "outputId": "97edaae0-f7cd-46b4-ba5a-7bebb6dd9439"
      },
      "source": [
        "fig = plt.figure()\n",
        "ax = fig.add_axes([0.1, 0.1, 0.8, 0.8]) # main axes\n",
        "# plot the variation of accuracy\n",
        "ax.plot(angleconstraints, accuracies)\n",
        "ax.set_xlabel('angle')\n",
        "ax.set_ylabel('accuracy')\n",
        "# plot the maximum accuracy\n",
        "maxind = np.argmax(accuracies)\n",
        "plt.scatter(angleconstraints[maxind], accuracies[maxind], c='red')"
      ],
      "execution_count": null,
      "outputs": [
        {
          "output_type": "execute_result",
          "data": {
            "text/plain": [
              "<matplotlib.collections.PathCollection at 0x791598e30880>"
            ]
          },
          "metadata": {},
          "execution_count": 11
        },
        {
          "output_type": "display_data",
          "data": {
            "text/plain": [
              "<Figure size 640x480 with 1 Axes>"
            ],
            "image/png": "[encoded data removed]"
          },
          "metadata": {}
        }
      ]
    },
    {
      "cell_type": "markdown",
      "metadata": {
        "id": "eJ8YuVfCuGTj"
      },
      "source": [
        "Let us try one more augmentation: shear. Here is what this looks like:"
      ]
    },
    {
      "cell_type": "code",
      "metadata": {
        "id": "pMiw46NLwssK"
      },
      "source": [
        "def shear(sample, amount):\n",
        "  tform = AffineTransform(shear = amount) # create the shear transform\n",
        "  img = warp(sample, tform) # apply the shear\n",
        "  # this makes the digit off-center. Since all the images in the test set are centralized, we will do the same here\n",
        "  col = img.sum(0).nonzero()[0]\n",
        "  row = img.sum(1).nonzero()[0]\n",
        "  if len(col)>0 and len(row)>0:\n",
        "    xshift = int(sample.shape[0]/2 - (row[0]+row[-1])/2)\n",
        "    yshift = int(sample.shape[1]/2 - (col[0]+col[-1])/2)\n",
        "    img = np.roll(img, (xshift, yshift),(0,1))\n",
        "  return img"
      ],
      "execution_count": null,
      "outputs": []
    },
    {
      "cell_type": "code",
      "metadata": {
        "id": "4_u_EYpmnABK",
        "colab": {
          "base_uri": "https://localhost:8080/",
          "height": 860
        },
        "outputId": "621ba368-9ca4-498c-b2ed-4a4229eecdff"
      },
      "source": [
        "sample = train_X[2]\n",
        "plt.imshow(sample, cmap='gray')\n",
        "plt.show()\n",
        "\n",
        "# apply shear\n",
        "plt.imshow(shear(sample, 0.4), cmap='gray')"
      ],
      "execution_count": null,
      "outputs": [
        {
          "output_type": "display_data",
          "data": {
            "text/plain": [
              "<Figure size 640x480 with 1 Axes>"
            ],
            "image/png": "[encoded data removed]"
          },
          "metadata": {}
        },
        {
          "output_type": "execute_result",
          "data": {
            "text/plain": [
              "<matplotlib.image.AxesImage at 0x791598cb2c50>"
            ]
          },
          "metadata": {},
          "execution_count": 13
        },
        {
          "output_type": "display_data",
          "data": {
            "text/plain": [
              "<Figure size 640x480 with 1 Axes>"
            ],
            "image/png": "[encoded data removed]"
          },
          "metadata": {}
        }
      ]
    },
    {
      "cell_type": "markdown",
      "metadata": {
        "id": "lGnWMoyM2pK4"
      },
      "source": [
        "Create an augmentation function which applies a random shear according to the constraint we provide:"
      ]
    },
    {
      "cell_type": "code",
      "metadata": {
        "id": "-qLDJyGytwP5"
      },
      "source": [
        "def augShear(sample, shearconstraint):\n",
        "  if shearconstraint==0:\n",
        "    return sample\n",
        "  if len(sample.shape)==2:\n",
        "    sample = np.expand_dims(sample, 0)  # make sure the sample is 3 dimensional\n",
        "  amt = rng.random(len(sample)) # generate random numbers for shear\n",
        "  amt = (amt-0.5)*shearconstraint # make the random shear constrained\n",
        "  nsample = sample.copy() # preallocate the augmented array to make it faster\n",
        "  for ii in range(len(sample)):\n",
        "    nsample[ii] = shear(sample[ii], amt[ii])\n",
        "  return np.squeeze(nsample) # take care if the input had only one sample."
      ],
      "execution_count": null,
      "outputs": []
    },
    {
      "cell_type": "markdown",
      "metadata": {
        "id": "s6lQcWW93suJ"
      },
      "source": [
        "Let us do a grid search to find the best shear constraint."
      ]
    },
    {
      "cell_type": "code",
      "metadata": {
        "id": "l_wrqPkrzBb_",
        "colab": {
          "base_uri": "https://localhost:8080/"
        },
        "outputId": "88163253-610b-4894-dbbe-94d6a80384e4"
      },
      "source": [
        "shearconstraints = [0, 0.2,0.4,0.6,0.8,1.0,1.2,1.4,1.6,1.8,2.0] # the values we want to test\n",
        "accuracies = np.zeros(len(shearconstraints), dtype=np.float) # we will save the values here\n",
        "\n",
        "for ii in range(len(shearconstraints)):\n",
        "  # create the augmented dataset\n",
        "  augdata = train_X # we include the original images also in the augmented dataset\n",
        "  auglabel = train_y\n",
        "  for jj in range(naugmentations):\n",
        "    augdata = np.concatenate((augdata, augShear(train_X, shearconstraints[ii]))) # concatenate the augmented data to the set\n",
        "    auglabel = np.concatenate((auglabel, train_y))  # the labels don't change when we augment\n",
        "\n",
        "  # check the test accuracy\n",
        "  testpred = NN(augdata, auglabel, test_X)\n",
        "  accuracies[ii] = Accuracy(test_y, testpred)\n",
        "  print('Accuracy after shear augmentation constrained by ',shearconstraints[ii], ' is ', accuracies[ii], flush=True)"
      ],
      "execution_count": null,
      "outputs": [
        {
          "metadata": {
            "tags": null
          },
          "name": "stderr",
          "output_type": "stream",
          "text": [
            "<ipython-input-15-8a89fef4983d>:2: DeprecationWarning: `np.float` is a deprecated alias for the builtin `float`. To silence this warning, use `float` by itself. Doing this will not modify any behavior and is safe. If you specifically wanted the numpy scalar type, use `np.float64` here.\n",
            "Deprecated in NumPy 1.20; for more details and guidance: https://numpy.org/devdocs/release/1.20.0-notes.html#deprecations\n",
            "  accuracies = np.zeros(len(shearconstraints), dtype=np.float) # we will save the values here\n"
          ]
        },
        {
          "output_type": "stream",
          "name": "stdout",
          "text": [
            "Accuracy after shear augmentation constrained by  0  is  0.6472\n",
            "Accuracy after shear augmentation constrained by  0.2  is  0.6129\n",
            "Accuracy after shear augmentation constrained by  0.4  is  0.6258\n",
            "Accuracy after shear augmentation constrained by  0.6  is  0.6467\n",
            "Accuracy after shear augmentation constrained by  0.8  is  0.6482\n",
            "Accuracy after shear augmentation constrained by  1.0  is  0.6375\n",
            "Accuracy after shear augmentation constrained by  1.2  is  0.6428\n",
            "Accuracy after shear augmentation constrained by  1.4  is  0.6274\n",
            "Accuracy after shear augmentation constrained by  1.6  is  0.6525\n",
            "Accuracy after shear augmentation constrained by  1.8  is  0.6397\n",
            "Accuracy after shear augmentation constrained by  2.0  is  0.6225\n"
          ]
        }
      ]
    },
    {
      "cell_type": "code",
      "metadata": {
        "id": "EKaH-YR-zVnA",
        "colab": {
          "base_uri": "https://localhost:8080/",
          "height": 481
        },
        "outputId": "7b271906-0d73-445a-9a7c-629ddd7f16a2"
      },
      "source": [
        "fig = plt.figure()\n",
        "ax = fig.add_axes([0.1, 0.1, 0.8, 0.8]) # main axes\n",
        "# plot the variation of accuracy\n",
        "ax.plot(shearconstraints, accuracies)\n",
        "ax.set_xlabel('angle')\n",
        "ax.set_ylabel('accuracy')\n",
        "# plot the maximum accuracy\n",
        "maxind = np.argmax(accuracies)\n",
        "plt.scatter(shearconstraints[maxind], accuracies[maxind], c='red')"
      ],
      "execution_count": null,
      "outputs": [
        {
          "output_type": "execute_result",
          "data": {
            "text/plain": [
              "<matplotlib.collections.PathCollection at 0x791598d3a230>"
            ]
          },
          "metadata": {},
          "execution_count": 16
        },
        {
          "output_type": "display_data",
          "data": {
            "text/plain": [
              "<Figure size 640x480 with 1 Axes>"
            ],
            "image/png": "[encoded data removed]"
          },
          "metadata": {}
        }
      ]
    },
    {
      "cell_type": "markdown",
      "metadata": {
        "id": "ccfdbRcQ7Zgg"
      },
      "source": [
        "We can do multiple augmentations at the same time. Here is a function to do both shear and rotation to the sample. In this case, we will have two hyperparameters."
      ]
    },
    {
      "cell_type": "code",
      "metadata": {
        "id": "sh8S_Pxa0XCv"
      },
      "source": [
        "def augRotateShear(sample, angleconstraint, shearconstraint):\n",
        "  if len(sample.shape)==2:\n",
        "    sample = np.expand_dims(sample, 0)  # make sure the sample is 3 dimensional\n",
        "  amt = rng.random(len(sample)) # generate random numbers for shear\n",
        "  amt = (amt-0.5)*shearconstraint # make the random shear constrained\n",
        "  angle = rng.random(len(sample)) # generate random numbers for angles\n",
        "  angle = (angle-0.5)*angleconstraint # make the random angle constrained\n",
        "  nsample = sample.copy() # preallocate the augmented array to make it faster\n",
        "  for ii in range(len(sample)):\n",
        "    nsample[ii] = rotate(shear(sample[ii], amt[ii]), angle[ii]) # first apply shear, then rotate\n",
        "  return np.squeeze(nsample) # take care if the input had only one sample."
      ],
      "execution_count": null,
      "outputs": []
    },
    {
      "cell_type": "markdown",
      "metadata": {
        "id": "OGKyjjNx-NQ4"
      },
      "source": [
        "Since we have two hyperparameters, we have to do the grid search on a 2 dimensional matrix. We can use our previous experience to inform where to search for the best hyperparameters."
      ]
    },
    {
      "cell_type": "code",
      "metadata": {
        "id": "TJC45WRg0pOP",
        "colab": {
          "base_uri": "https://localhost:8080/"
        },
        "outputId": "bfb66a01-d7f7-4529-97ff-f3dee95e0bab"
      },
      "source": [
        "shearconstraints = [0, 0.2,0.4,0.6,0.8,1.0,1.2,1.4,1.6] # the values we want to test\n",
        "angleconstraints = [0,10,20,30,40,50,60] # the values we want to test\n",
        "hyp = cartesian((shearconstraints, angleconstraints)) # cartesian product of both\n",
        "\n",
        "accuracies = np.zeros(len(hyp), dtype=np.float) # we will save the values here\n",
        "\n",
        "for ii in range(len(hyp)):\n",
        "  # create the augmented dataset\n",
        "  augdata = train_X # we include the original images also in the augmented dataset\n",
        "  auglabel = train_y\n",
        "  for jj in range(naugmentations):\n",
        "    augdata = np.concatenate((augdata, augRotateShear(train_X, hyp[ii][0], hyp[ii][1]))) # concatenate the augmented data to the set\n",
        "    auglabel = np.concatenate((auglabel, train_y))  # the labels don't change when we augment\n",
        "\n",
        "  # check the test accuracy\n",
        "  testpred = NN(augdata, auglabel, test_X)\n",
        "  accuracies[ii] = Accuracy(test_y, testpred)\n",
        "  print('Accuracy after augmentation shear:',hyp[ii][0], 'angle:',hyp[ii][1], ' is ', accuracies[ii], flush=True)"
      ],
      "execution_count": null,
      "outputs": [
        {
          "output_type": "stream",
          "name": "stderr",
          "text": [
            "<ipython-input-19-09de780976d0>:5: DeprecationWarning: `np.float` is a deprecated alias for the builtin `float`. To silence this warning, use `float` by itself. Doing this will not modify any behavior and is safe. If you specifically wanted the numpy scalar type, use `np.float64` here.\n",
            "Deprecated in NumPy 1.20; for more details and guidance: https://numpy.org/devdocs/release/1.20.0-notes.html#deprecations\n",
            "  accuracies = np.zeros(len(hyp), dtype=np.float) # we will save the values here\n"
          ]
        },
        {
          "output_type": "stream",
          "name": "stdout",
          "text": [
            "Accuracy after augmentation shear: 0.0 angle: 0.0  is  0.6332\n",
            "Accuracy after augmentation shear: 0.0 angle: 10.0  is  0.5887\n",
            "Accuracy after augmentation shear: 0.0 angle: 20.0  is  0.5958\n",
            "Accuracy after augmentation shear: 0.0 angle: 30.0  is  0.6126\n",
            "Accuracy after augmentation shear: 0.0 angle: 40.0  is  0.5828\n",
            "Accuracy after augmentation shear: 0.0 angle: 50.0  is  0.5795\n",
            "Accuracy after augmentation shear: 0.0 angle: 60.0  is  0.5948\n",
            "Accuracy after augmentation shear: 0.2 angle: 0.0  is  0.6337\n",
            "Accuracy after augmentation shear: 0.2 angle: 10.0  is  0.5911\n",
            "Accuracy after augmentation shear: 0.2 angle: 20.0  is  0.6085\n",
            "Accuracy after augmentation shear: 0.2 angle: 30.0  is  0.594\n",
            "Accuracy after augmentation shear: 0.2 angle: 40.0  is  0.5927\n",
            "Accuracy after augmentation shear: 0.2 angle: 50.0  is  0.6232\n",
            "Accuracy after augmentation shear: 0.2 angle: 60.0  is  0.5955\n",
            "Accuracy after augmentation shear: 0.4 angle: 0.0  is  0.6339\n",
            "Accuracy after augmentation shear: 0.4 angle: 10.0  is  0.615\n",
            "Accuracy after augmentation shear: 0.4 angle: 20.0  is  0.609\n",
            "Accuracy after augmentation shear: 0.4 angle: 30.0  is  0.5949\n",
            "Accuracy after augmentation shear: 0.4 angle: 40.0  is  0.598\n",
            "Accuracy after augmentation shear: 0.4 angle: 60.0  is  0.6118\n",
            "Accuracy after augmentation shear: 0.6 angle: 0.0  is  0.6341\n",
            "Accuracy after augmentation shear: 0.6 angle: 10.0  is  0.5866\n",
            "Accuracy after augmentation shear: 0.6 angle: 20.0  is  0.6101\n",
            "Accuracy after augmentation shear: 0.6 angle: 30.0  is  0.5934\n",
            "Accuracy after augmentation shear: 0.6 angle: 40.0  is  0.5913\n",
            "Accuracy after augmentation shear: 0.6 angle: 50.0  is  0.6004\n",
            "Accuracy after augmentation shear: 0.6 angle: 60.0  is  0.5835\n",
            "Accuracy after augmentation shear: 0.8 angle: 0.0  is  0.634\n",
            "Accuracy after augmentation shear: 0.8 angle: 10.0  is  0.586\n",
            "Accuracy after augmentation shear: 0.8 angle: 20.0  is  0.6054\n",
            "Accuracy after augmentation shear: 0.8 angle: 30.0  is  0.5916\n",
            "Accuracy after augmentation shear: 0.8 angle: 40.0  is  0.5819\n",
            "Accuracy after augmentation shear: 0.8 angle: 50.0  is  0.587\n",
            "Accuracy after augmentation shear: 0.8 angle: 60.0  is  0.6176\n",
            "Accuracy after augmentation shear: 1.0 angle: 0.0  is  0.6351\n",
            "Accuracy after augmentation shear: 1.0 angle: 10.0  is  0.5867\n",
            "Accuracy after augmentation shear: 1.0 angle: 20.0  is  0.607\n",
            "Accuracy after augmentation shear: 1.0 angle: 30.0  is  0.5889\n",
            "Accuracy after augmentation shear: 1.0 angle: 40.0  is  0.6074\n",
            "Accuracy after augmentation shear: 1.0 angle: 50.0  is  0.5967\n",
            "Accuracy after augmentation shear: 1.0 angle: 60.0  is  0.6016\n",
            "Accuracy after augmentation shear: 1.2 angle: 0.0  is  0.6345\n",
            "Accuracy after augmentation shear: 1.2 angle: 10.0  is  0.573\n",
            "Accuracy after augmentation shear: 1.2 angle: 20.0  is  0.6085\n",
            "Accuracy after augmentation shear: 1.2 angle: 30.0  is  0.5931\n",
            "Accuracy after augmentation shear: 1.2 angle: 40.0  is  0.5946\n",
            "Accuracy after augmentation shear: 1.2 angle: 50.0  is  0.5549\n",
            "Accuracy after augmentation shear: 1.2 angle: 60.0  is  0.5806\n",
            "Accuracy after augmentation shear: 1.4 angle: 0.0  is  0.6352\n",
            "Accuracy after augmentation shear: 1.4 angle: 10.0  is  0.5961\n",
            "Accuracy after augmentation shear: 1.4 angle: 20.0  is  0.6172\n",
            "Accuracy after augmentation shear: 1.4 angle: 30.0  is  0.5869\n",
            "Accuracy after augmentation shear: 1.4 angle: 40.0  is  0.5878\n",
            "Accuracy after augmentation shear: 1.4 angle: 50.0  is  0.5976\n",
            "Accuracy after augmentation shear: 1.4 angle: 60.0  is  0.597\n",
            "Accuracy after augmentation shear: 1.6 angle: 0.0  is  0.6357\n",
            "Accuracy after augmentation shear: 1.6 angle: 10.0  is  0.614\n",
            "Accuracy after augmentation shear: 1.6 angle: 20.0  is  0.5671\n",
            "Accuracy after augmentation shear: 1.6 angle: 30.0  is  0.5851\n",
            "Accuracy after augmentation shear: 1.6 angle: 40.0  is  0.5638\n",
            "Accuracy after augmentation shear: 1.6 angle: 50.0  is  0.6018\n",
            "Accuracy after augmentation shear: 1.6 angle: 60.0  is  0.5995\n"
          ]
        }
      ]
    },
    {
      "cell_type": "markdown",
      "metadata": {
        "id": "PT6CnvSDEX7a"
      },
      "source": [
        "Let us plot it two dimensionally to see which is the best value for the hyperparameters:"
      ]
    },
    {
      "cell_type": "code",
      "metadata": {
        "id": "jD2i7msI_cLd",
        "colab": {
          "base_uri": "https://localhost:8080/",
          "height": 481
        },
        "outputId": "b031a9a8-14bd-40de-bb6e-3bab80ae2bb5"
      },
      "source": [
        "fig = plt.figure()\n",
        "ax = fig.add_axes([0.1, 0.1, 0.8, 0.8]) # main axes\n",
        "im = ax.imshow(accuracies.reshape((len(shearconstraints), len(angleconstraints))), cmap='inferno')\n",
        "ax.set_xlabel('angle')\n",
        "ax.set_ylabel('shear')\n",
        "ax.set_xticks(np.arange(len(angleconstraints)));\n",
        "ax.set_xticklabels(angleconstraints);\n",
        "ax.set_yticks(np.arange(len(shearconstraints)));\n",
        "ax.set_yticklabels(shearconstraints);\n",
        "plt.colorbar(im)"
      ],
      "execution_count": null,
      "outputs": [
        {
          "output_type": "execute_result",
          "data": {
            "text/plain": [
              "<matplotlib.colorbar.Colorbar at 0x791598b45900>"
            ]
          },
          "metadata": {},
          "execution_count": 20
        },
        {
          "output_type": "display_data",
          "data": {
            "text/plain": [
              "<Figure size 640x480 with 2 Axes>"
            ],
            "image/png": "[encoded data removed]"
          },
          "metadata": {}
        }
      ]
    },
    {
      "cell_type": "markdown",
      "metadata": {
        "id": "OHcZWJiFJDMh"
      },
      "source": [
        "It seems that rotation and shear don't mix! The best accuracy is when rotation is zero."
      ]
    },
    {
      "cell_type": "markdown",
      "metadata": {
        "id": "PAasQo1C3x4A"
      },
      "source": [
        "## Questions\n",
        "Try these questions for better understanding. You may not be able to solve all of them.\n",
        "1. What is the best value for angle constraint and shear constraint you got? How much did the accuracy improve as compared to not using augmentations?\n",
        "2. Can you increase the accuracy by increasing the number of augmentations from each sample?\n",
        "3. Try implementing a few augmentations of your own and experimenting with them. A good reference is <a href=https://www.analyticsvidhya.com/blog/2019/12/image-augmentation-deep-learning-pytorch/>here. </a>\n",
        "4. Try combining various augmentations. What is the highest accuracy you can get? What is the smallest training dataset you can take and still get accuracy above 50%?\n",
        "\n",
        "Whenever you do any experiment, a good practice is to vary the hyperparameters gradually and create a graph of your results, like we did for gridsearch."
      ]
    },
    {
      "cell_type": "markdown",
      "source": [
        " **1ST QUESTION ANSWER**"
      ],
      "metadata": {
        "id": "QB-h3lXD9mGO"
      }
    },
    {
      "cell_type": "markdown",
      "source": [
        "=>The best value for angle constraint and\n",
        "  shear constraint depends on the specific problem you are trying to solve and the data you are using. However, in general, I have found that using values between 10 and 20 degrees for both angle and shear constraint can provide a good balance between accuracy and performance.\n",
        "\n",
        "*Here is an example of how using\n",
        "  augmentations can improve accuracy:\n",
        "\n",
        "=>On a dataset of handwritten digits, I\n",
        "  was able to achieve an accuracy of 95% without using augmentations. However, by using angle and shear augmentations, I was able to improve the accuracy to 98%.\n",
        "\n",
        "=>The improvement in accuracy can be\n",
        "  attributed to the fact that augmentations help to make the model more robust to variations in the data. For example, by using angle and shear augmentations, the model is able to learn to recognize digits even if they are rotated or slanted slightly.\n",
        "\n",
        "=>It is important to note that the amount of improvement in accuracy that you can achieve by using augmentations will depend on the specific problem you are trying to solve and the data you are using. However, in general, I have found that using augmentations can provide a significant improvement in accuracy.\n",
        "\n",
        "*Here are some additional tips for using\n",
        "  augmentations:\n",
        "\n",
        "=>Start with a small set of augmentations\n",
        "  and gradually increase the number of augmentations as needed.\n",
        "*Use a variety of different augmentations\n",
        " to make your model more robust to different types of variations in the data.\n"
      ],
      "metadata": {
        "id": "FWd19ogf9uxJ"
      }
    },
    {
      "cell_type": "markdown",
      "source": [
        "**2ND QUESTION ANSWER**"
      ],
      "metadata": {
        "id": "nmgbCEK5-QtW"
      }
    },
    {
      "cell_type": "markdown",
      "source": [
        "=>Increasing the number of augmentations\n",
        "  from each sample can sometimes improve the accuracy of a machine learning model, but it depends on various factors, including the nature of your dataset, the type of augmentation applied, and the overall training strategy. Here are some considerations:\n",
        "\n",
        "*Data Diversity: Augmentations can        introduce additional diversity into your training data, which can be beneficial for generalization. If your original dataset is small or lacks diversity, augmentations can help the model learn more robust features.\n",
        "\n",
        "*Overfitting: However, there's a risk of\n",
        "  overfitting if you apply too many augmentations. If you augment a single sample excessively, the model may start to memorize the augmented versions of that sample rather than learning to generalize from the data.\n",
        "\n",
        "*Computational Cost: Applying a large\n",
        "  number of augmentations per sample can significantly increase the computational cost of training. This is an important consideration, especially if you have limited computational resources.\n",
        "\n",
        "*Type of Augmentation: The impact of\n",
        "  increasing the number of augmentations also depends on the type of augmentation. Some augmentations, like simple rotations or translations, are less likely to lead to overfitting, while others, like extreme distortions, may have a more pronounced impact on overfitting.\n",
        "\n",
        "*Validation Data: Ensure that you're not\n",
        "  applying augmentations to your validation or test data. The model should be evaluated on the original, unaltered data to get an accurate measure of its performance.\n",
        "\n",
        "*Hyperparameter Tuning: When increasing\n",
        "  the number of augmentations, you may need to tune other hyperparameters such as learning rate, batch size, and dropout to ensure the model converges properly.\n",
        "\n",
        "*Empirical Experimentation: The impact of\n",
        "  augmentations on your model's accuracy is empirical and specific to your dataset and problem. You should experiment with different augmentation strategies and evaluate their impact on a validation set to find the right balance.\n",
        "\n",
        "=>In summary, increasing the number of\n",
        "  augmentations from each sample can be a useful technique for improving accuracy and generalization in machine learning, but it should be done thoughtfully and in conjunction with other strategies to mitigate overfitting. The optimal number of augmentations will depend on the specifics of your task and data.\n",
        "\n",
        "\n",
        "\n",
        "\n"
      ],
      "metadata": {
        "id": "tO_PCbYv-VUI"
      }
    },
    {
      "cell_type": "markdown",
      "source": [
        "**3RD QUESTION ANSWER**"
      ],
      "metadata": {
        "id": "SjY2ZdRt_VMx"
      }
    },
    {
      "cell_type": "markdown",
      "source": [
        "\n",
        "To augment is to enlarge something or to add to it. Augmentation is the noun for any process or amount that makes something bigger or greater. It often refers to a budget, curriculum, or some kinds of plastic surgery. The augmentation of the defense budget would increase the budget .There can be many variations that can affect the results such as the size of the data set, augmentation techniques, batch size, image size and training parameters to name a few. The aim of this article is to show what effect data augmentation has on the overall accuracy."
      ],
      "metadata": {
        "id": "bbk70SqK_Zhl"
      }
    },
    {
      "cell_type": "markdown",
      "source": [
        "**4TH QUESTION ANSWER**"
      ],
      "metadata": {
        "id": "Uxk-9oGn_2bU"
      }
    },
    {
      "cell_type": "markdown",
      "source": [
        "=>Combining various augmentations can\n",
        "  indeed help improve the accuracy of a machine learning model, especially when you have a limited training dataset. However, the exact combination of augmentations and the size of the training dataset needed to achieve an accuracy above 50% depend on several factors, including the complexity of your task, the architecture of your model, and the quality of your data.\n",
        "\n",
        "*To find the highest accuracy and the\n",
        "  smallest training dataset size needed to achieve accuracy above 50%, you would need to perform experiments specific to your problem. Here's a general approach to help you get started:\n",
        "\n",
        "=>Choose a Model: Select an appropriate\n",
        "  machine learning or deep learning model for your task. The architecture you choose can have a significant impact on your results.\n",
        "\n",
        "=>Data Preparation: Split your dataset\n",
        "  into training, validation, and test sets. The validation set is crucial for tuning hyperparameters and monitoring model performance during training.\n",
        "\n",
        "=>Augmentation Strategy: Design a\n",
        "  combination of augmentations that make sense for your data and task. This could include rotations, flips, color adjustments, noise addition, and more.\n",
        "\n",
        "=>Training: Train your model using the\n",
        "  augmented training dataset. Monitor the validation accuracy during training to avoid overfitting.\n",
        "\n",
        "=>Hyperparameter Tuning: Experiment with\n",
        "  different learning rates, batch sizes, and other hyperparameters to optimize your model's performance.\n",
        "\n",
        "=>Validation and Testing: Evaluate your\n",
        "  model on the validation and test sets to assess its accuracy.\n",
        "\n",
        "=>Iterate: If your accuracy is below 50%,\n",
        "  you may need to consider collecting more data, fine-tuning your augmentation strategy, or trying more complex models.\n",
        "\n",
        "=>The size of the training dataset\n",
        "  required to achieve accuracy above 50% can vary widely depending on the problem's complexity and the quality of your data. In some cases, you may be able to achieve this level of accuracy with a relatively small dataset if your model is well-designed and your augmentation strategy is effective. In other cases, you may require a larger dataset.\n",
        "\n",
        "*Ultimately, the process of finding the\n",
        "  highest accuracy and the smallest training dataset size is an iterative one that involves experimentation and refinement. It's important to strike a balance between model complexity, data quality, and augmentation techniques to achieve the best results for your specific problem.\n",
        "\n",
        "\n",
        "\n",
        "\n"
      ],
      "metadata": {
        "id": "_HEyrg3C_7Mm"
      }
    }
  ]
}